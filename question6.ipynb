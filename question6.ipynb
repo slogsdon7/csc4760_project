{
 "cells": [
  {
   "cell_type": "markdown",
   "metadata": {},
   "source": [
    "# Initial data import "
   ]
  },
  {
   "cell_type": "code",
   "execution_count": null,
   "metadata": {
    "scrolled": true
   },
   "outputs": [],
   "source": [
    "import numpy as np\n",
    "import matplotlib.pyplot as plt\n",
    "import seaborn as sns\n",
    "import os.path\n",
    "import pandas as pd\n",
    "CSV_PATH = 'processed_data/q6.csv'\n",
    "if not os.path.isfile(CSV_PATH):\n",
    "    from preprocessing import q6\n",
    "    q6.process()\n",
    "\n",
    "df = pd.read_csv(CSV_PATH)\n",
    "df"
   ]
  },
  {
   "cell_type": "markdown",
   "metadata": {},
   "source": [
    "# Pivoted Dataframe\n",
    "We use the pandas pivot function to reshape our data. Note that the data is mirrored across the line of missing(nan) values. This is because the self-join query returned data for (c1,c2) and (c2,c1) pairs e.g. (US,RU) and (RU,US). We will clean this up in the next step. "
   ]
  },
  {
   "cell_type": "code",
   "execution_count": null,
   "metadata": {
    "scrolled": false
   },
   "outputs": [],
   "source": [
    "pv = df.pivot(index='c1', columns='c2', values='shared_percent')\n",
    "pv.rename_axis(None).style.set_table_styles([{'selector': '.index_name', 'props': [('font-size', '0')]}])"
   ]
  },
  {
   "cell_type": "markdown",
   "metadata": {},
   "source": [
    "# Generate heatmap\n",
    "Uses numpy to generate a mask which hides the upper-half of the data in the plot. "
   ]
  },
  {
   "cell_type": "code",
   "execution_count": null,
   "metadata": {
    "pycharm": {
     "name": "#%%\n"
    },
    "scrolled": true
   },
   "outputs": [],
   "source": [
    "sns.set(style=\"ticks\", font_scale=1.2)\n",
    "%matplotlib inline\n",
    "plt.figure(figsize=(12,8)) \n",
    "\n",
    "\n",
    "mask = np.zeros_like(pv, dtype=np.bool)\n",
    "mask[np.triu_indices_from(mask)] = True\n",
    "\n",
    "ax = sns.heatmap(pv, cmap = sns.color_palette(\"YlGnBu\", 10), \n",
    "                 annot=True, annot_kws = {'size': 'large'}, fmt='.2%',\n",
    "                 mask = mask,\n",
    "                 cbar = False\n",
    "                )\n",
    "# fix for mpl bug that cuts off top/bottom of seaborn viz\n",
    "b, t = plt.ylim() # discover the values for bottom and top\n",
    "b += 0.5 # Add 0.5 to the bottom\n",
    "t -= 0.5 # Subtract 0.5 from the top\n",
    "plt.ylim(b, t) # update the ylim(bottom, top) values\n",
    "\n",
    "ax.xaxis.get_major_ticks()[-1].set_visible(False)\n",
    "ax.yaxis.get_major_ticks()[0].set_visible(False)\n",
    "ax.set_yticklabels(ax.get_yticklabels(), rotation=0)\n",
    "ax.set_xlabel('')\n",
    "ax.set_ylabel('');"
   ]
  },
  {
   "cell_type": "code",
   "execution_count": null,
   "metadata": {},
   "outputs": [],
   "source": []
  }
 ],
 "metadata": {
  "kernelspec": {
   "display_name": "Python 3",
   "language": "python",
   "name": "python3"
  },
  "language_info": {
   "codemirror_mode": {
    "name": "ipython",
    "version": 3
   },
   "file_extension": ".py",
   "mimetype": "text/x-python",
   "name": "python",
   "nbconvert_exporter": "python",
   "pygments_lexer": "ipython3",
   "version": "3.7.4"
  },
  "pycharm": {
   "stem_cell": {
    "cell_type": "raw",
    "metadata": {
     "collapsed": false
    },
    "source": []
   }
  }
 },
 "nbformat": 4,
 "nbformat_minor": 1
}
